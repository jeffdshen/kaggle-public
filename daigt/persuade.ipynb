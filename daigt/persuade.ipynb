{
 "cells": [
  {
   "cell_type": "code",
   "execution_count": null,
   "metadata": {},
   "outputs": [],
   "source": [
    "from datasets import get_dfs\n",
    "import numpy as np\n",
    "import pandas as pd\n",
    "import ngram"
   ]
  },
  {
   "cell_type": "code",
   "execution_count": null,
   "metadata": {},
   "outputs": [],
   "source": [
    "dfs = get_dfs({\n",
    "    \"drcat\": \"./daigt-v2-train-dataset\",\n",
    "    \"train\": \"./llm-detect-ai-generated-text/\",\n",
    "    \"test\": \"./llm-detect-ai-generated-text/\"\n",
    "})\n",
    "persuade = dfs[\"drcat\"]\n",
    "persuade = persuade[persuade[\"prompt_name\"].isin([\"Car-free cities\", \"Does the electoral college work?\"])]\n",
    "train = dfs[\"train\"]"
   ]
  },
  {
   "cell_type": "code",
   "execution_count": null,
   "metadata": {},
   "outputs": [],
   "source": [
    "# May take up to 10 minutes\n",
    "fingerprint = lambda text: ngram.ngrams(ngram.collapse(text.strip()))\n",
    "matches, errors = ngram.find_matches(train[train[\"generated\"] == 0], persuade, fingerprint)\n",
    "train_indices, drcat_indices = zip(*matches.items())\n",
    "train_ids = [train.loc[i, \"id\"] for i in train_indices]"
   ]
  },
  {
   "cell_type": "code",
   "execution_count": null,
   "metadata": {},
   "outputs": [],
   "source": [
    "persuade_match_df = pd.DataFrame({\"train_index\": train_indices, \"train_id\": train_ids, \"drcat_index\": drcat_indices})\n",
    "persuade_match_df.to_csv(\"./persuade_match/persuade_match.csv\")"
   ]
  }
 ],
 "metadata": {
  "kernelspec": {
   "display_name": "kaggle_daigt",
   "language": "python",
   "name": "python3"
  },
  "language_info": {
   "codemirror_mode": {
    "name": "ipython",
    "version": 3
   },
   "file_extension": ".py",
   "mimetype": "text/x-python",
   "name": "python",
   "nbconvert_exporter": "python",
   "pygments_lexer": "ipython3",
   "version": "3.10.12"
  }
 },
 "nbformat": 4,
 "nbformat_minor": 2
}
