{
 "cells": [
  {
   "cell_type": "code",
   "execution_count": 2,
   "metadata": {},
   "outputs": [],
   "source": [
    "from datasets import get_dfs\n",
    "from collections import Counter, defaultdict\n",
    "import numpy as np\n",
    "import difflib\n",
    "import heapq\n",
    "import pandas as pd\n",
    "import ngram\n",
    "import re\n",
    "from spellchecker import SpellChecker\n",
    "from tqdm import tqdm"
   ]
  },
  {
   "cell_type": "code",
   "execution_count": 3,
   "metadata": {},
   "outputs": [],
   "source": [
    "dfs = get_dfs({\n",
    "    \"drcat\": \"./daigt-v2-train-dataset\",\n",
    "    \"train\": \"./llm-detect-ai-generated-text/\",\n",
    "    \"test\": \"./llm-detect-ai-generated-text/\"\n",
    "})\n",
    "persuade = dfs[\"drcat\"]\n",
    "persuade = persuade[persuade[\"prompt_name\"].isin([\"Car-free cities\", \"Does the electoral college work?\"])]\n",
    "train = dfs[\"train\"]\n",
    "human_train = train[train[\"generated\"] == 0]"
   ]
  },
  {
   "cell_type": "code",
   "execution_count": 4,
   "metadata": {},
   "outputs": [],
   "source": [
    "persuade_match_df = pd.read_csv(\"./persuade_match/persuade_match.csv\", index_col=0)"
   ]
  },
  {
   "cell_type": "code",
   "execution_count": 5,
   "metadata": {},
   "outputs": [],
   "source": [
    "matches = {}\n",
    "matches_inv = {}\n",
    "index_to_train = {}\n",
    "for i, (train_index, train_id, drcat_index) in persuade_match_df.iterrows():\n",
    "    matches[train_index] = drcat_index\n",
    "    matches_inv[drcat_index] = train_index\n",
    "    index_to_train[i] = train_index"
   ]
  },
  {
   "cell_type": "code",
   "execution_count": 6,
   "metadata": {},
   "outputs": [],
   "source": [
    "persuade_train = persuade[persuade.index.isin(persuade_match_df[\"drcat_index\"])].copy()"
   ]
  },
  {
   "cell_type": "markdown",
   "metadata": {},
   "source": [
    "## Allowed Chars"
   ]
  },
  {
   "cell_type": "code",
   "execution_count": 7,
   "metadata": {},
   "outputs": [],
   "source": [
    "def get_all_chars(df, col):\n",
    "    return set(list(''.join(df[col].to_list())))"
   ]
  },
  {
   "cell_type": "code",
   "execution_count": 8,
   "metadata": {},
   "outputs": [
    {
     "name": "stdout",
     "output_type": "stream",
     "text": [
      "#$()*+-/;<=>[\\]^`{|}~ £©®°²¶¹ÓÖáåéóадезопрс‍–—‘’“”─♀️�🌎🌱🎉🏋🏼💚💡💤💥💦💪💸📚📱😁😃😅😌😴🚀🤒🤔🤯🤷🧦\n"
     ]
    }
   ],
   "source": [
    "missing_chars = get_all_chars(persuade, \"text\") - get_all_chars(train, \"text\")\n",
    "print(\"\".join(sorted(missing_chars)))"
   ]
  },
  {
   "cell_type": "code",
   "execution_count": 9,
   "metadata": {},
   "outputs": [
    {
     "name": "stdout",
     "output_type": "stream",
     "text": [
      "\n",
      " !\"%&',.0123456789:?ABCDEFGHIJKLMNOPQRSTUVWXYZ_abcdefghijklmnopqrstuvwxyz\n"
     ]
    }
   ],
   "source": [
    "allowed_chars = get_all_chars(persuade, \"text\") & get_all_chars(train, \"text\")\n",
    "print(\"\".join(sorted(allowed_chars)))"
   ]
  },
  {
   "cell_type": "markdown",
   "metadata": {},
   "source": [
    "## Check line cleaning"
   ]
  },
  {
   "cell_type": "markdown",
   "metadata": {},
   "source": [
    "Rules:\n",
    "1. Lines, separated by paragraph breaks (two new lines)\n",
    "2. Each line must end in proper punctuation.\n",
    "3. Each line must have at least one punctuation.\n",
    "4. Strip spaces from each line.\n",
    "5. The whole essay must end with a period."
   ]
  },
  {
   "cell_type": "code",
   "execution_count": 10,
   "metadata": {},
   "outputs": [],
   "source": [
    "def check_lines(df):\n",
    "    checks = {\n",
    "        \"non_lower\": re.compile(\"^[^a-z]+:$\", flags=re.MULTILINE),\n",
    "        # \"search\": re.compile(\"[A-Z]+[A-Z][A-Z][A-Z]\"),\n",
    "        \"non_punctuated\": re.compile(\"^[^.!?]+$\", flags=re.MULTILINE),\n",
    "        \"non_punctuated_break\": re.compile(\"[^ .!?\\n] *$\", flags=re.MULTILINE),\n",
    "        \"non_period\": re.compile(\"[^ .\\n] *$\", flags=re.MULTILINE),\n",
    "        \"double_space\": re.compile(\"  \"),\n",
    "        \"break_space\": re.compile(\"\\n \"),\n",
    "        \"space_break\": re.compile(\" \\n\"),\n",
    "        \"triple_break\": re.compile(\"\\n\\n\\n\"),\n",
    "        \"non_period_ending\": re.compile(\"[^.\\\\s]\\\\s*$\"),\n",
    "        \"space_before\": re.compile(\" [.]\")\n",
    "    }\n",
    "\n",
    "    results = defaultdict(list)\n",
    "    for i, row in df.iterrows():\n",
    "        text = row[\"text\"]\n",
    "        for k, check_re in checks.items():\n",
    "            result = check_re.search(text)\n",
    "            results[k].append(result is not None)\n",
    "\n",
    "    results = {k: np.array(v) for k, v in results.items()}\n",
    "    return results"
   ]
  },
  {
   "cell_type": "code",
   "execution_count": 11,
   "metadata": {},
   "outputs": [
    {
     "data": {
      "text/plain": [
       "{'non_lower': 0,\n",
       " 'non_punctuated': 0,\n",
       " 'non_punctuated_break': 0,\n",
       " 'non_period': 202,\n",
       " 'double_space': 0,\n",
       " 'break_space': 0,\n",
       " 'space_break': 0,\n",
       " 'triple_break': 0,\n",
       " 'non_period_ending': 0,\n",
       " 'space_before': 16}"
      ]
     },
     "execution_count": 11,
     "metadata": {},
     "output_type": "execute_result"
    }
   ],
   "source": [
    "results = check_lines(train)\n",
    "{k: v.sum() for k,v in results.items()}"
   ]
  },
  {
   "cell_type": "code",
   "execution_count": 12,
   "metadata": {},
   "outputs": [
    {
     "data": {
      "text/plain": [
       "{'non_lower': 0,\n",
       " 'non_punctuated': 374,\n",
       " 'non_punctuated_break': 888,\n",
       " 'non_period': 980,\n",
       " 'double_space': 1372,\n",
       " 'break_space': 0,\n",
       " 'space_break': 0,\n",
       " 'triple_break': 0,\n",
       " 'non_period_ending': 256,\n",
       " 'space_before': 110}"
      ]
     },
     "execution_count": 12,
     "metadata": {},
     "output_type": "execute_result"
    }
   ],
   "source": [
    "results = check_lines(persuade_train)\n",
    "{k: v.sum() for k,v in results.items()}"
   ]
  },
  {
   "cell_type": "markdown",
   "metadata": {},
   "source": [
    "Observations:\n",
    "1. 1774: Line with ',' gets concat to the next line, line with all caps gets dropped\n",
    "2. 1560: Lines after last period get stripped.\n",
    "3. 20012: Line with period gets kept, even if all caps\n",
    "4. 20170: Line not ending in punctuation gets concat. Line with all caps + '!' gets kept. Line with letters only gets dropped.\n",
    "5. 1310: Line with '\"' gets concat\n",
    "6. 1343: Line with ':' gets dropped\n",
    "7. 2756: Line with all caps + '-' gets kept.\n",
    "8. 2345: Line with only letters gets kept.\n",
    "\n",
    "Therefore, the rules:\n",
    "1. Split lines and words, then join them with \"\\n\" and \" \".\n",
    "2. For any line not ending in punctuation ('!.?'), and only insignificant characters (including '[a-zA-Z_0-9:]'), drop it.\n",
    "3. For any line not ending in punctuation, and at least one significant character (including '[\",-]'), concat to the next.\n",
    "4. Other characters (\"%&\") are undecided, but likely get dropped.\n",
    "5. After joining, all characters after the last period get stripped.\n",
    "\n",
    "This process most likely happens after the spell check phase, due to the fact that disallowed characters get stripped after spell check, and not before (e.g. or else \"xxx`s\" doesn't result in \"s\" getting spell checked to \"i\"). Character filtering happens after 3, because \"-\" is enough to preserve the line, but before 4, since some chars gets stripped before concat. \n",
    "\n",
    "Few other rules:\n",
    "1. \"''\" gets replaced with '\"'\n",
    "2. \" .\" gets replaced with \".\" This happens before the above rules, so \" .\" can still show up if affected by line joining. Doesn't happen for other characters (\" ?\", \" !\")."
   ]
  },
  {
   "cell_type": "code",
   "execution_count": 17,
   "metadata": {},
   "outputs": [
    {
     "name": "stdout",
     "output_type": "stream",
     "text": [
      "Car alarms, car horns, and engines are basically the only thing people hear nowadays. The number of cars in the streets are simply begining to get out of hand.\n",
      "\n",
      "Citizens all around the world, we all should really try to limit the amount of time that we are spending using our vehicals.\n",
      "\n",
      "If you really take a moment to think about it, this could honestly turn out to be a really good thing.\n",
      "\n",
      "Cars are not neccisarily a need, they are a want. I can undertand if you are going to be traveling a far distance that two feet cant get you, but certianlty and ten minute walk to the grocery store/market cant hurt.\n",
      "\n",
      "Limiting car usage is very important. Most families tend to spend about about $20-50.00 on gas a week. One advantage to limiting car usuage is saving a ton of money on gas that could easily be spent of food, to feed your family.\n",
      "\n",
      "\" \"\n",
      "\n",
      "When I had a car I was always tense. I'm much happier this way\" \" People who have decided to limit the amount of time they spent using their car, are much happier.\n",
      "\n",
      "One advantage to limiting the use of cars is that the air would become much more fresh and clean, and it would become alot more healtheir for us citizens.\n",
      "\n",
      "\" \"\n",
      "\n",
      "Its a good oppertunity to take away stress and lower air pollution,\" said a busiinessman Carlos Arturo Plaza as he rode a two-seated bicycle with his wife.\" \"\n",
      "\n",
      "Most people that have decided to stop using cars or have significantly limited their car usuage, have nothing but positive things to say.\n",
      "\n",
      "If more people became aware that not spending so much time driving was a good thing, and simply limited their care usuage, the air would become so much more clean, and alot more of us would be happy.\n",
      "\n",
      "A former citizen has shared with us that one advantage to limiting car usgae for her is that her children have\n",
      "\n",
      "\"... organized their summer jobs and social life around where they can walk or take public transportation or car pool with friends.\" She has also mentioned that her children were not in any rush to get their drivers license, even though where they live a car would would definetly \"...come in handy.\" Most people have really been able to enjoy walking and not using their cars.\n",
      "\n",
      "Driving your car is not intirely a bad thing, but simply limiting your car usage is a wonderfull thing, and many advantages come to limitng car usuage. You save a great deal of money on gas when you decide to walk rather than to drive, the air become a lot more clean and heathy for our lungs, and many people are able to focus more on the important things in life, like jobs and friends and family.\n",
      "\n",
      "If you decide to park your car in the garage and put away the keys, you'd really be able to see how nice it is to just walk to your destination rather than drive, it's a great way to realx and to just enjoy yourself.            \n",
      "-----------\n",
      "Car alarms, car horns, and engines are basically the only thing people hear nowadays. The number of cars in the streets are simply beginning to get out of hand.\n",
      "\n",
      "Citizens all around the world, we all should really try to limit the amount of time that we are spending using our vehicle.\n",
      "\n",
      "If you really take a moment to think about it, this could honestly turn out to be a really good thing.\n",
      "\n",
      "Cars are not necessarily a need, they are a want. I can undertand if you are going to be traveling a far distance that two feet cant get you, but certianlty and ten minute walk to the grocery storemarket cant hurt.\n",
      "\n",
      "Limiting car usage is very important. Most families tend to spend about about 2050.00 on gas a week. One advantage to limiting car usage is saving a ton of money on gas that could easily be spent of food, to feed your family.\n",
      "\n",
      "\" \" When I had a car I was always tense. I'm much happier this way\" \" People who have decided to limit the amount of time they spent using their car, are much happier.\n",
      "\n",
      "One advantage to limiting the use of cars is that the air would become much more fresh and clean, and it would become alot more healthier for us citizens.\n",
      "\n",
      "\" \" Its a good opportunity to take away stress and lower air pollution,\" said a businessman Carlos Arturo Plaza as he rode a twoseated bicycle with his wife.\" \" Most people that have decided to stop using cars or have significantly limited their car usage, have nothing but positive things to say.\n",
      "\n",
      "If more people became aware that not spending so much time driving was a good thing, and simply limited their care usage, the air would become so much more clean, and alot more of us would be happy.\n",
      "\n",
      "A former citizen has shared with us that one advantage to limiting car usage for her is that her children have \"... organized their summer jobs and social life around where they can walk or take public transportation or car pool with friends.\" She has also mentioned that her children were not in any rush to get their drivers license, even though where they live a car would would definetely \"...come in handy.\" Most people have really been able to enjoy walking and not using their cars.\n",
      "\n",
      "Driving your car is not intirely a bad thing, but simply limiting your car usage is a wonderfull thing, and many advantages come to limitng car usage. You save a great deal of money on gas when you decide to walk rather than to drive, the air become a lot more clean and heathy for our lungs, and many people are able to focus more on the important things in life, like jobs and friends and family.\n",
      "\n",
      "If you decide to park your car in the garage and put away the keys, you'd really be able to see how nice it is to just walk to your destination rather than drive, it's a great way to realx and to just enjoy yourself.\n"
     ]
    }
   ],
   "source": [
    "# Use to make observations\n",
    "i = 2345\n",
    "# print(i)\n",
    "print(persuade_train.loc[i, \"text\"])\n",
    "print(\"-----------\")\n",
    "print(train.loc[matches_inv[i], \"text\"])"
   ]
  },
  {
   "cell_type": "markdown",
   "metadata": {},
   "source": [
    "## Preprocess line check"
   ]
  },
  {
   "cell_type": "code",
   "execution_count": 16,
   "metadata": {},
   "outputs": [
    {
     "data": {
      "text/plain": [
       "1.0"
      ]
     },
     "execution_count": 16,
     "metadata": {},
     "output_type": "execute_result"
    }
   ],
   "source": [
    "lines1 = np.array([row.text.count(\"\\n\") for i, row in human_train.iterrows()])\n",
    "lines2 = np.array([ngram.preprocess(persuade_train.loc[matches[i], \"text\"]).count(\"\\n\") for i, row in human_train.iterrows()])\n",
    "(lines1 == lines2).mean()"
   ]
  }
 ],
 "metadata": {
  "kernelspec": {
   "display_name": "kaggle_daigt",
   "language": "python",
   "name": "python3"
  },
  "language_info": {
   "codemirror_mode": {
    "name": "ipython",
    "version": 3
   },
   "file_extension": ".py",
   "mimetype": "text/x-python",
   "name": "python",
   "nbconvert_exporter": "python",
   "pygments_lexer": "ipython3",
   "version": "3.10.12"
  }
 },
 "nbformat": 4,
 "nbformat_minor": 2
}
