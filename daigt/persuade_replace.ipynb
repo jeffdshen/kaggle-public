{
 "cells": [
  {
   "cell_type": "code",
   "execution_count": null,
   "metadata": {},
   "outputs": [],
   "source": [
    "from datasets import get_dfs\n",
    "import numpy as np\n",
    "import pandas as pd\n",
    "import ngram\n",
    "import re\n",
    "from spellchecker import SpellChecker\n",
    "import json"
   ]
  },
  {
   "cell_type": "code",
   "execution_count": null,
   "metadata": {},
   "outputs": [],
   "source": [
    "dfs = get_dfs({\n",
    "    \"drcat\": \"./daigt-v2-train-dataset\",\n",
    "    \"drcat_v3\": \"./daigt-v3-train-dataset\",\n",
    "    \"train\": \"./llm-detect-ai-generated-text/\",\n",
    "    \"test\": \"./llm-detect-ai-generated-text/\"\n",
    "})\n",
    "persuade = dfs[\"drcat\"]\n",
    "persuade = persuade[persuade[\"prompt_name\"].isin([\"Car-free cities\", \"Does the electoral college work?\"])]\n",
    "train = dfs[\"train\"]\n",
    "human_train = train[train[\"generated\"] == 0]"
   ]
  },
  {
   "cell_type": "code",
   "execution_count": null,
   "metadata": {},
   "outputs": [],
   "source": [
    "words_re = re.compile(\"[/\\w']+\")\n",
    "spell = SpellChecker()\n",
    "memoize_candidates = ngram.load_memoize_candidates(\"./persuade_match/memoize_candidates.json\")\n",
    "match_df = pd.read_csv(\"persuade_match/full_persuade_match.csv\", index_col=0)"
   ]
  },
  {
   "cell_type": "code",
   "execution_count": null,
   "metadata": {},
   "outputs": [],
   "source": [
    "match_texts = {i: (text, source) for i, text, source in match_df[[\"text\", \"text_orig\"]].itertuples(index=True, name=None)}"
   ]
  },
  {
   "cell_type": "code",
   "execution_count": null,
   "metadata": {},
   "outputs": [],
   "source": [
    "replace_candidates = ngram.find_spell_check_candidates(\n",
    "    match_texts,\n",
    "    lambda x, y: -ngram.l1_error(x, y),\n",
    "    lambda x: ngram.ngrams(x, n=4),\n",
    "    ngram.preprocess,\n",
    "    ngram.postprocess,\n",
    "    words_re,\n",
    "    spell,\n",
    "    memoize_candidates,\n",
    ")"
   ]
  },
  {
   "cell_type": "code",
   "execution_count": null,
   "metadata": {},
   "outputs": [],
   "source": [
    "# ngram.save_memoize_candidates(memoize_candidates, \"./persuade_match/memoize_candidates.json\")"
   ]
  },
  {
   "cell_type": "code",
   "execution_count": null,
   "metadata": {},
   "outputs": [],
   "source": [
    "replacements, results, scores_dict = ngram.prune_spell_check_candidates(\n",
    "    match_texts,\n",
    "    lambda x, y: -ngram.l1_error(x, y),\n",
    "    lambda x: ngram.ngrams(x, n=10),\n",
    "    ngram.preprocess,\n",
    "    ngram.postprocess,\n",
    "    replace_candidates\n",
    ")"
   ]
  },
  {
   "cell_type": "code",
   "execution_count": null,
   "metadata": {},
   "outputs": [],
   "source": [
    "np.set_printoptions(suppress=True)\n",
    "scores = []\n",
    "for i, (text, source) in match_texts.items():\n",
    "    scores.append((i, 1.0 if text == results[i] else ngram.text_similarity(text, results[i])))\n",
    "scores = np.array(scores)\n",
    "scores[(scores[:, 1] < 1.0).nonzero(), :]"
   ]
  },
  {
   "cell_type": "code",
   "execution_count": null,
   "metadata": {},
   "outputs": [],
   "source": [
    "with open(\"persuade_match/replacements.json\", \"w\") as f:\n",
    "    json.dump(replacements, f)\n",
    "with open(\"persuade_match/results.json\", \"w\") as f:\n",
    "    json.dump(results, f)\n",
    "with open(\"persuade_match/scores_dict.json\", \"w\") as f:\n",
    "    json.dump(scores_dict, f)"
   ]
  },
  {
   "cell_type": "code",
   "execution_count": null,
   "metadata": {},
   "outputs": [],
   "source": []
  }
 ],
 "metadata": {
  "kernelspec": {
   "display_name": "kaggle_daigt",
   "language": "python",
   "name": "python3"
  },
  "language_info": {
   "codemirror_mode": {
    "name": "ipython",
    "version": 3
   },
   "file_extension": ".py",
   "mimetype": "text/x-python",
   "name": "python",
   "nbconvert_exporter": "python",
   "pygments_lexer": "ipython3",
   "version": "3.10.12"
  }
 },
 "nbformat": 4,
 "nbformat_minor": 2
}
