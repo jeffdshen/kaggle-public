{
 "cells": [
  {
   "cell_type": "code",
   "execution_count": null,
   "metadata": {},
   "outputs": [],
   "source": [
    "from datasets import get_dfs\n",
    "from collections import Counter, defaultdict\n",
    "import numpy as np\n",
    "import difflib\n",
    "import heapq\n",
    "import pandas as pd\n",
    "import ngram\n",
    "import re\n",
    "from spellchecker import SpellChecker\n",
    "from tqdm import tqdm\n",
    "import matplotlib.pyplot as plt\n",
    "import json\n",
    "import random"
   ]
  },
  {
   "cell_type": "code",
   "execution_count": null,
   "metadata": {},
   "outputs": [],
   "source": [
    "dfs = get_dfs({\n",
    "    \"drcat\": \"./daigt-v2-train-dataset\",\n",
    "    \"drcat_v3\": \"./daigt-v3-train-dataset\",\n",
    "    \"train\": \"./llm-detect-ai-generated-text/\",\n",
    "    \"test\": \"./llm-detect-ai-generated-text/\"\n",
    "})"
   ]
  },
  {
   "cell_type": "code",
   "execution_count": null,
   "metadata": {},
   "outputs": [],
   "source": [
    "words_re = re.compile(\"[/\\w']+\")\n",
    "spell = SpellChecker()\n",
    "memoize_candidates = ngram.load_memoize_candidates(\"./persuade_match/memoize_candidates.json\")\n",
    "match_df = pd.read_csv(\"persuade_match/full_persuade_match.csv\", index_col=0)\n",
    "match_texts = {i: (text, source) for i, text, source in match_df[[\"text\", \"text_orig\"]].itertuples(index=True, name=None)}"
   ]
  },
  {
   "cell_type": "code",
   "execution_count": null,
   "metadata": {},
   "outputs": [],
   "source": [
    "with open(\"persuade_match/replacements.json\") as f:\n",
    "    replacements = {int(k): v for k, v in json.load(f).items()}\n",
    "with open(\"persuade_match/results.json\") as f:\n",
    "    results = {int(k): v for k, v in json.load(f).items()}"
   ]
  },
  {
   "cell_type": "code",
   "execution_count": null,
   "metadata": {},
   "outputs": [],
   "source": [
    "word_freqs = ngram.get_word_freqs(\n",
    "    dfs[\"drcat_v3\"][\"text\"],\n",
    "    ngram.preprocess,\n",
    "    words_re,\n",
    ")\n",
    "freq_getter = ngram.FreqGetter(word_freqs, memoize_candidates)"
   ]
  },
  {
   "cell_type": "code",
   "execution_count": null,
   "metadata": {},
   "outputs": [],
   "source": [
    "rand = random.Random(42)\n",
    "augment = lambda text: ngram.augment_random(\n",
    "    text,\n",
    "    ngram.preprocess,\n",
    "    ngram.postprocess,\n",
    "    words_re,\n",
    "    spell,\n",
    "    freq_getter,\n",
    "    memoize_candidates,\n",
    "    rand\n",
    ")"
   ]
  },
  {
   "cell_type": "code",
   "execution_count": null,
   "metadata": {},
   "outputs": [],
   "source": [
    "rand.seed(42)\n",
    "aug_df = match_df[\"text_orig\"].apply(augment)\n",
    "aug_df = pd.DataFrame(aug_df.tolist(), columns=[\"text\", \"replace\"], index=match_df.index)\n",
    "sum(aug_df[\"text\"] == match_df[\"text\"])"
   ]
  },
  {
   "cell_type": "code",
   "execution_count": null,
   "metadata": {},
   "outputs": [],
   "source": [
    "ious = []\n",
    "for i, aug_replace in aug_df[\"replace\"].items():\n",
    "    replace = replacements[i]\n",
    "    a = set(aug_replace)\n",
    "    b = set(tuple(r) for r in replace)\n",
    "    o = len(a | b)\n",
    "    iou = len(a & b) / o if o > 0 else 1\n",
    "    ious.append(iou)\n",
    "\n",
    "ious = np.array(ious)\n",
    "ious.mean()"
   ]
  },
  {
   "cell_type": "code",
   "execution_count": null,
   "metadata": {},
   "outputs": [],
   "source": [
    "# rand.seed(42)\n",
    "# aug_df = dfs[\"drcat_v3\"][\"text\"].apply(augment)\n",
    "# aug_df = pd.DataFrame(aug_df.tolist(), columns=[\"text\", \"replace\"], index=dfs[\"drcat_v3\"].index)"
   ]
  }
 ],
 "metadata": {
  "kernelspec": {
   "display_name": "kaggle_daigt",
   "language": "python",
   "name": "python3"
  },
  "language_info": {
   "codemirror_mode": {
    "name": "ipython",
    "version": 3
   },
   "file_extension": ".py",
   "mimetype": "text/x-python",
   "name": "python",
   "nbconvert_exporter": "python",
   "pygments_lexer": "ipython3",
   "version": "3.10.12"
  }
 },
 "nbformat": 4,
 "nbformat_minor": 2
}
