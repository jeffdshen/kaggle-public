{
 "cells": [
  {
   "cell_type": "code",
   "execution_count": null,
   "metadata": {},
   "outputs": [],
   "source": [
    "# import time\n",
    "# start_time = time.time()\n",
    "# total_time = (4 * 60 + 45) * 60"
   ]
  },
  {
   "cell_type": "code",
   "execution_count": 1,
   "metadata": {},
   "outputs": [],
   "source": [
    "import os\n",
    "os.environ[\"TOKENIZERS_PARALLELISM\"] = \"false\""
   ]
  },
  {
   "cell_type": "code",
   "execution_count": null,
   "metadata": {},
   "outputs": [],
   "source": [
    "from transformers import set_seed\n",
    "set_seed(42)"
   ]
  },
  {
   "cell_type": "code",
   "execution_count": null,
   "metadata": {},
   "outputs": [],
   "source": [
    "def get_environment() -> str:\n",
    "    if os.getenv(\"KAGGLE_KERNEL_RUN_TYPE\") != None:\n",
    "        return \"kaggle\"\n",
    "    elif os.getenv(\"COLAB_RELEASE_TAG\") != None:\n",
    "        return \"colab\"\n",
    "    else:\n",
    "        return \"local\"\n",
    "\n",
    "\n",
    "ENV = get_environment()\n",
    "if ENV == \"kaggle\":\n",
    "    from jeffdshen.aimo2.server import load_qwq, MODELS\n",
    "    from jeffdshen.aimo2.predict import MetaLLM, SYSTEM_PARAMS\n",
    "    from jeffdshen.aimo2.config import get_validation_data\n",
    "elif ENV == \"local\":\n",
    "    from .server import load_qwq, MODELS\n",
    "    from .predict import MetaLLM, SYSTEM_PARAMS\n",
    "    from .config import get_validation_data\n",
    "elif ENV == \"colab\":\n",
    "    raise NotImplementedError(\"Not yet implemented\")\n",
    "else:\n",
    "    raise ValueError(\"Unknown environment\")"
   ]
  },
  {
   "cell_type": "code",
   "execution_count": 1,
   "metadata": {},
   "outputs": [],
   "source": [
    "data = get_validation_data()"
   ]
  },
  {
   "cell_type": "code",
   "execution_count": null,
   "metadata": {},
   "outputs": [],
   "source": [
    "llm = load_qwq(MODELS[\"qwq-32b-preview-awq\"])"
   ]
  },
  {
   "cell_type": "code",
   "execution_count": null,
   "metadata": {},
   "outputs": [],
   "source": [
    "SYSTEMS = [\n",
    "    \"v1\",\n",
    "    \"v2\",\n",
    "    \"v3\",\n",
    "    \"v4\",\n",
    "    \"v5\",\n",
    "    \"default_v1\",\n",
    "    \"default_v2\",\n",
    "    \"default_v3\",\n",
    "    \"think_v1\",\n",
    "    \"think_v2\",\n",
    "]"
   ]
  },
  {
   "cell_type": "code",
   "execution_count": null,
   "metadata": {},
   "outputs": [],
   "source": [
    "with open(\"request_log.jsonl\", \"w\") as f:\n",
    "    meta_llm = MetaLLM(\n",
    "        llm=llm,\n",
    "        system_params=[SYSTEM_PARAMS[x] for x in SYSTEMS],\n",
    "        question_log=f,\n",
    "        correct_answers=data.correct_answers,\n",
    "    )\n",
    "    meta_llm.predict(data.df.get_column(\"id\"), data.df.get_column(\"problem\"))"
   ]
  }
 ],
 "metadata": {
  "kernelspec": {
   "display_name": "aimo2",
   "language": "python",
   "name": "python3"
  },
  "language_info": {
   "codemirror_mode": {
    "name": "ipython",
    "version": 3
   },
   "file_extension": ".py",
   "mimetype": "text/x-python",
   "name": "python",
   "nbconvert_exporter": "python",
   "pygments_lexer": "ipython3",
   "version": "3.10.14"
  }
 },
 "nbformat": 4,
 "nbformat_minor": 2
}
