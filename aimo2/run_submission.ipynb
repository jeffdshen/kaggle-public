{
 "cells": [
  {
   "cell_type": "code",
   "execution_count": null,
   "metadata": {},
   "outputs": [],
   "source": [
    "import time\n",
    "start_time = time.time()\n",
    "total_time = (4 * 60 + 45) * 60"
   ]
  },
  {
   "cell_type": "code",
   "execution_count": null,
   "metadata": {},
   "outputs": [],
   "source": [
    "import os\n",
    "os.environ[\"TOKENIZERS_PARALLELISM\"] = \"false\"\n",
    "# https://www.kaggle.com/competitions/ai-mathematical-olympiad-progress-prize-2/discussion/560682#3113134\n",
    "os.environ[\"TRITON_PTXAS_PATH\"] = \"/usr/local/cuda/bin/ptxas\"\n",
    "os.environ[\"VLLM_USE_V1\"] = \"1\""
   ]
  },
  {
   "cell_type": "code",
   "execution_count": null,
   "metadata": {},
   "outputs": [],
   "source": [
    "import pandas as pd\n",
    "import polars as pl\n",
    "\n",
    "import kaggle_evaluation.aimo_2_inference_server"
   ]
  },
  {
   "cell_type": "code",
   "execution_count": null,
   "metadata": {},
   "outputs": [],
   "source": [
    "from transformers import set_seed\n",
    "set_seed(42)"
   ]
  },
  {
   "cell_type": "code",
   "execution_count": null,
   "metadata": {},
   "outputs": [],
   "source": [
    "def get_environment() -> str:\n",
    "    if os.getenv(\"KAGGLE_KERNEL_RUN_TYPE\") != None:\n",
    "        return \"kaggle\"\n",
    "    elif os.getenv(\"COLAB_RELEASE_TAG\") != None:\n",
    "        return \"colab\"\n",
    "    else:\n",
    "        return \"local\"\n",
    "\n",
    "\n",
    "ENV = get_environment()\n",
    "if ENV == \"kaggle\":\n",
    "    from jeffdshen.aimo2.predict import MetaLLM\n",
    "    from jeffdshen.aimo2.systems import WeightedEnsemble\n",
    "    from jeffdshen.aimo2.config import (\n",
    "        get_validation_data,\n",
    "        load_llm,\n",
    "        MODELS,\n",
    "        SYSTEM_PARAMS,\n",
    "    )\n",
    "elif ENV == \"local\":\n",
    "    from .predict import MetaLLM\n",
    "    from .systems import WeightedEnsemble\n",
    "    from .config import get_validation_data, load_llm, MODELS, SYSTEM_PARAMS\n",
    "elif ENV == \"colab\":\n",
    "    raise NotImplementedError(\"Not yet implemented\")\n",
    "else:\n",
    "    raise ValueError(\"Unknown environment\")"
   ]
  },
  {
   "cell_type": "code",
   "execution_count": null,
   "metadata": {},
   "outputs": [],
   "source": [
    "data = get_validation_data()"
   ]
  },
  {
   "cell_type": "code",
   "execution_count": null,
   "metadata": {},
   "outputs": [],
   "source": [
    "llm = load_llm(MODELS[\"deepseek-r1-distill-qwen-32b-awq\"])"
   ]
  },
  {
   "cell_type": "code",
   "execution_count": null,
   "metadata": {},
   "outputs": [],
   "source": [
    "SYSTEMS = [\n",
    "    \"r1_v1a\",\n",
    "    \"r1_v1b\",\n",
    "    \"r1_v1c\",\n",
    "    \"r1_v2a\",\n",
    "    \"r1_v2b\",\n",
    "    \"r1_v2c\",\n",
    "]"
   ]
  },
  {
   "cell_type": "code",
   "execution_count": null,
   "metadata": {},
   "outputs": [],
   "source": [
    "with open(\"request_log.jsonl\", \"w\") as f:\n",
    "    system = WeightedEnsemble(\n",
    "        system_params=[SYSTEM_PARAMS[x] for x in SYSTEMS],\n",
    "        question_log=f,\n",
    "        correct_answers=data.correct_answers,\n",
    "        start_time=start_time,\n",
    "        full_timeout=total_time,\n",
    "    )\n",
    "    meta_llm = MetaLLM(\n",
    "        llm=llm,\n",
    "        system=system,\n",
    "    )\n",
    "\n",
    "    inference_server = kaggle_evaluation.aimo_2_inference_server.AIMO2InferenceServer(meta_llm.predict)\n",
    "\n",
    "    if os.getenv('KAGGLE_IS_COMPETITION_RERUN'):\n",
    "        inference_server.serve()\n",
    "    else:\n",
    "        inference_server.run_local_gateway(\n",
    "            (\n",
    "                '/kaggle/input/ai-mathematical-olympiad-progress-prize-2/test.csv',\n",
    "            )\n",
    "        )\n"
   ]
  }
 ],
 "metadata": {
  "kernelspec": {
   "display_name": "aimo2",
   "language": "python",
   "name": "python3"
  },
  "language_info": {
   "name": "python",
   "version": "3.10.14"
  }
 },
 "nbformat": 4,
 "nbformat_minor": 2
}
